{
  "nbformat": 4,
  "nbformat_minor": 0,
  "metadata": {
    "colab": {
      "provenance": [],
      "toc_visible": true,
      "authorship_tag": "ABX9TyO9nOABAl4I9gxPIjfLyuMW",
      "include_colab_link": true
    },
    "kernelspec": {
      "name": "python3",
      "display_name": "Python 3"
    },
    "language_info": {
      "name": "python"
    }
  },
  "cells": [
    {
      "cell_type": "markdown",
      "metadata": {
        "id": "view-in-github",
        "colab_type": "text"
      },
      "source": [
        "<a href=\"https://colab.research.google.com/github/Kuanhao-Chao/LiftOn/blob/main/notebook/lifton_example.ipynb\" target=\"_parent\"><img src=\"https://colab.research.google.com/assets/colab-badge.svg\" alt=\"Open In Colab\"/></a>"
      ]
    },
    {
      "cell_type": "markdown",
      "source": [
        "# Running LiftOn on Google Colab"
      ],
      "metadata": {
        "id": "TJZ-vxbA6-Zv"
      }
    },
    {
      "cell_type": "markdown",
      "source": [
        "## Setup"
      ],
      "metadata": {
        "id": "mR0_36fX7Cq9"
      }
    },
    {
      "cell_type": "markdown",
      "source": [
        "### Install LiftOn"
      ],
      "metadata": {
        "id": "bZEpHcZr7Ff5"
      }
    },
    {
      "cell_type": "code",
      "execution_count": 1,
      "metadata": {
        "colab": {
          "base_uri": "https://localhost:8080/"
        },
        "id": "VfTdiCWA6pv2",
        "outputId": "a5b95314-c43a-4015-a76f-e616e5068055"
      },
      "outputs": [
        {
          "output_type": "stream",
          "name": "stdout",
          "text": [
            "Collecting lifton\n",
            "  Downloading lifton-0.0.1-py3-none-any.whl (68 kB)\n",
            "\u001b[2K     \u001b[90m━━━━━━━━━━━━━━━━━━━━━━━━━━━━━━━━━━━━━━━━\u001b[0m \u001b[32m68.1/68.1 kB\u001b[0m \u001b[31m854.1 kB/s\u001b[0m eta \u001b[36m0:00:00\u001b[0m\n",
            "\u001b[?25hRequirement already satisfied: numpy in /usr/local/lib/python3.10/dist-packages (from lifton) (1.23.5)\n",
            "Collecting biopython (from lifton)\n",
            "  Downloading biopython-1.83-cp310-cp310-manylinux_2_17_x86_64.manylinux2014_x86_64.whl (3.1 MB)\n",
            "\u001b[2K     \u001b[90m━━━━━━━━━━━━━━━━━━━━━━━━━━━━━━━━━━━━━━━━\u001b[0m \u001b[32m3.1/3.1 MB\u001b[0m \u001b[31m15.9 MB/s\u001b[0m eta \u001b[36m0:00:00\u001b[0m\n",
            "\u001b[?25hCollecting cigar>=0.1.3 (from lifton)\n",
            "  Downloading cigar-0.1.3.tar.gz (7.0 kB)\n",
            "  Preparing metadata (setup.py) ... \u001b[?25l\u001b[?25hdone\n",
            "Collecting parasail>=1.2.1 (from lifton)\n",
            "  Downloading parasail-1.3.4-py2.py3-none-manylinux_2_17_x86_64.manylinux2014_x86_64.whl (15.6 MB)\n",
            "\u001b[2K     \u001b[90m━━━━━━━━━━━━━━━━━━━━━━━━━━━━━━━━━━━━━━━━\u001b[0m \u001b[32m15.6/15.6 MB\u001b[0m \u001b[31m14.6 MB/s\u001b[0m eta \u001b[36m0:00:00\u001b[0m\n",
            "\u001b[?25hCollecting intervaltree>=3.1.0 (from lifton)\n",
            "  Downloading intervaltree-3.1.0.tar.gz (32 kB)\n",
            "  Preparing metadata (setup.py) ... \u001b[?25l\u001b[?25hdone\n",
            "Requirement already satisfied: sortedcontainers<3.0,>=2.0 in /usr/local/lib/python3.10/dist-packages (from intervaltree>=3.1.0->lifton) (2.4.0)\n",
            "Building wheels for collected packages: cigar, intervaltree\n",
            "  Building wheel for cigar (setup.py) ... \u001b[?25l\u001b[?25hdone\n",
            "  Created wheel for cigar: filename=cigar-0.1.3-py3-none-any.whl size=4018 sha256=e9430f91d925dd242454ce813c8087dbf61d7d56bb2e18e83babc1fe7f655112\n",
            "  Stored in directory: /root/.cache/pip/wheels/75/18/b2/e1baa97ff21b2716f1ef8510de676c9777ce0b9057994e23be\n",
            "  Building wheel for intervaltree (setup.py) ... \u001b[?25l\u001b[?25hdone\n",
            "  Created wheel for intervaltree: filename=intervaltree-3.1.0-py2.py3-none-any.whl size=26095 sha256=3017b747ebb3520a1f61f52774ebaf4f8715519c076e390a2a566b8d35a27bb9\n",
            "  Stored in directory: /root/.cache/pip/wheels/fa/80/8c/43488a924a046b733b64de3fac99252674c892a4c3801c0a61\n",
            "Successfully built cigar intervaltree\n",
            "Installing collected packages: cigar, parasail, intervaltree, biopython, lifton\n",
            "Successfully installed biopython-1.83 cigar-0.1.3 intervaltree-3.1.0 lifton-0.0.1 parasail-1.3.4\n"
          ]
        }
      ],
      "source": [
        "!pip install lifton"
      ]
    },
    {
      "cell_type": "markdown",
      "source": [
        "### Checking installed splam version"
      ],
      "metadata": {
        "id": "Df7BSBwM685q"
      }
    },
    {
      "cell_type": "code",
      "source": [
        "!lifton -h"
      ],
      "metadata": {
        "colab": {
          "base_uri": "https://localhost:8080/"
        },
        "id": "A9lt7Du0B17N",
        "outputId": "76e414b8-e051-41c9-81fc-3f9b4850ca21"
      },
      "execution_count": 13,
      "outputs": [
        {
          "output_type": "stream",
          "name": "stdout",
          "text": [
            "\n",
            "====================================================================\n",
            "An accurate homology lift-over tool between assemblies\n",
            "====================================================================\n",
            "\n",
            "\n",
            "    ██╗     ██╗███████╗████████╗ ██████╗ ███╗   ██╗\n",
            "    ██║     ██║██╔════╝╚══██╔══╝██╔═══██╗████╗  ██║\n",
            "    ██║     ██║█████╗     ██║   ██║   ██║██╔██╗ ██║\n",
            "    ██║     ██║██╔══╝     ██║   ██║   ██║██║╚██╗██║\n",
            "    ███████╗██║██║        ██║   ╚██████╔╝██║ ╚████║\n",
            "    ╚══════╝╚═╝╚═╝        ╚═╝    ╚═════╝ ╚═╝  ╚═══╝\n",
            "    \n",
            "v0.0.1\n",
            "\n",
            "usage: lifton [-h] [-E] [-o FILE] [-u FILE] [-exclude_partial] [-dir DIR] [-mm2_options =STR]\n",
            "              [-a A] [-s S] [-d D] [-flank F] [-V] [-D] [-t THREADS] [-m PATH] [-f TYPES]\n",
            "              [-infer-genes] [-infer_transcripts] [-chroms TXT] [-unplaced TXT] [-copies] [-sc SC]\n",
            "              [-overlap O] [-mismatch M] [-gap_open GO] [-gap_extend GE] [-polish] [-cds] -g GFF\n",
            "              [-P FASTA] [-T FASTA] [-L gff] [-M gff]\n",
            "              target reference\n",
            "\n",
            "Lift features from one genome assembly to another\n",
            "\n",
            "* Required input (sequences):\n",
            "  target                target fasta genome to lift genes to\n",
            "  reference             reference fasta genome to lift genes from\n",
            "\n",
            "* Required input (Reference annotation):\n",
            "  -g GFF, --reference-annotation GFF\n",
            "                        the reference annotation file to lift over in GFF or GTF format (or) name\n",
            "                        of feature database; if not specified, the -g argument must be provided\n",
            "                        and a database will be built automatically\n",
            "  -P FASTA, --proteins FASTA\n",
            "                        the reference protein sequences.\n",
            "  -T FASTA, --transcripts FASTA\n",
            "                        the reference transcript sequences.\n",
            "\n",
            "* Optional input (Liftoff annotation):\n",
            "  -L gff, --liftoff gff\n",
            "                        the annotation generated by Liftoff (or) name of Liftoff gffutils\n",
            "                        database; if not specified, the -liftoff argument must be provided and a\n",
            "                        database will be built automatically\n",
            "\n",
            "* Optional input (miniprot annotation):\n",
            "  -M gff, --miniprot gff\n",
            "                        the annotation generated by miniprot (or) name of miniprot gffutils\n",
            "                        database; if not specified, the -miniprot argument must be provided and a\n",
            "                        database will be built automatically\n",
            "\n",
            "* Output settings:\n",
            "  -o FILE, --output FILE\n",
            "                        write output to FILE in same format as input; by default, output is\n",
            "                        written to \"lifton.gff3\"\n",
            "  -u FILE               write unmapped features to FILE; default is \"unmapped_features.txt\"\n",
            "  -exclude_partial      write partial mappings below -s and -a threshold to unmapped_features.txt;\n",
            "                        if true partial/low sequence identity mappings will be included in the gff\n",
            "                        file with partial_mapping=True, low_identity=True in comments\n",
            "  -dir DIR, --directory DIR\n",
            "                        name of directory to save intermediate fasta and SAM files; default is\n",
            "                        \"intermediate_files\"\n",
            "\n",
            "* Miscellaneous settings:\n",
            "  -h, --help            show this help message and exit\n",
            "  -E, --evaluation      Run LiftOn in evaluation mode\n",
            "  -V, --version         show program version\n",
            "  -D, --debug           Run debug mode\n",
            "  -t THREADS, --threads THREADS\n",
            "                        use t parallel processes to accelerate alignment; by default p=1\n",
            "  -m PATH               Minimap2 path\n",
            "  -f TYPES, --features TYPES\n",
            "                        list of feature types to lift over\n",
            "  -infer-genes          use if annotation file only includes transcripts, exon/CDS features\n",
            "  -infer_transcripts    use if annotation file only includes exon/CDS features and does not\n",
            "                        include transcripts/mRNA\n",
            "  -chroms TXT           comma seperated file with corresponding chromosomes in the\n",
            "                        reference,target sequences\n",
            "  -unplaced TXT         text file with name(s) of unplaced sequences to map genes from after genes\n",
            "                        from chromosomes in chroms.txt are mapped; default is\n",
            "                        \"unplaced_seq_names.txt\"\n",
            "  -copies               look for extra gene copies in the target genome\n",
            "  -sc SC                with -copies, minimum sequence identity in exons/CDS for which a gene is\n",
            "                        considered a copy; must be greater than -s; default is 1.0\n",
            "  -overlap O            maximum fraction [0.0-1.0] of overlap allowed by 2 features; by default\n",
            "                        O=0.1\n",
            "  -mismatch M           mismatch penalty in exons when finding best mapping; by default M=2\n",
            "  -gap_open GO          gap open penalty in exons when finding best mapping; by default GO=2\n",
            "  -gap_extend GE        gap extend penalty in exons when finding best mapping; by default GE=1\n",
            "  -polish\n",
            "  -cds                  annotate status of each CDS (partial, missing start, missing stop, inframe\n",
            "                        stop codon)\n",
            "\n",
            "Alignments:\n",
            "  -mm2_options =STR     space delimited minimap2 parameters. By default =\"-a --end-bonus 5 --eqx\n",
            "                        -N 50 -p 0.5\"\n",
            "  -a A                  designate a feature mapped only if it aligns with coverage ≥A; by default\n",
            "                        A=0.5\n",
            "  -s S                  designate a feature mapped only if its child features (usually exons/CDS)\n",
            "                        align with sequence identity ≥S; by default S=0.5\n",
            "  -d D                  distance scaling factor; alignment nodes separated by more than a factor\n",
            "                        of D in the target genome will not be connected in the graph; by default\n",
            "                        D=2.0\n",
            "  -flank F              amount of flanking sequence to align as a fraction [0.0-1.0] of gene\n",
            "                        length. This can improve gene alignment where gene structure differs\n",
            "                        between target and reference; by default F=0.0\n"
          ]
        }
      ]
    },
    {
      "cell_type": "markdown",
      "source": [
        "---"
      ],
      "metadata": {
        "id": "uSKrjeEwJh-X"
      }
    },
    {
      "cell_type": "markdown",
      "source": [
        "## Upload data"
      ],
      "metadata": {
        "id": "cqRSl5eyJZHj"
      }
    },
    {
      "cell_type": "markdown",
      "source": [
        "### Upload example data for analysis"
      ],
      "metadata": {
        "id": "m-lSwaehJgQe"
      }
    },
    {
      "cell_type": "markdown",
      "source": [
        "*Please* first download all the data in the [test/](https://github.com/Kuanhao-Chao/lifton/tree/main/test) directory in the LiftOn github repository.\n",
        "\n",
        "**Then** upload all of them using `files.upload()`"
      ],
      "metadata": {
        "id": "29MW2mshJoMZ"
      }
    },
    {
      "cell_type": "code",
      "source": [
        "from google.colab import files\n",
        "uploaded = files.upload()"
      ],
      "metadata": {
        "id": "YSC7tIpFCTOT",
        "colab": {
          "base_uri": "https://localhost:8080/",
          "height": 142
        },
        "outputId": "f5ebf07c-25cf-4afb-fc4b-5747bb10e077"
      },
      "execution_count": 3,
      "outputs": [
        {
          "output_type": "display_data",
          "data": {
            "text/plain": [
              "<IPython.core.display.HTML object>"
            ],
            "text/html": [
              "\n",
              "     <input type=\"file\" id=\"files-a7a334ce-694c-4149-b06a-c00c5cd6bb4a\" name=\"files[]\" multiple disabled\n",
              "        style=\"border:none\" />\n",
              "     <output id=\"result-a7a334ce-694c-4149-b06a-c00c5cd6bb4a\">\n",
              "      Upload widget is only available when the cell has been executed in the\n",
              "      current browser session. Please rerun this cell to enable.\n",
              "      </output>\n",
              "      <script>// Copyright 2017 Google LLC\n",
              "//\n",
              "// Licensed under the Apache License, Version 2.0 (the \"License\");\n",
              "// you may not use this file except in compliance with the License.\n",
              "// You may obtain a copy of the License at\n",
              "//\n",
              "//      http://www.apache.org/licenses/LICENSE-2.0\n",
              "//\n",
              "// Unless required by applicable law or agreed to in writing, software\n",
              "// distributed under the License is distributed on an \"AS IS\" BASIS,\n",
              "// WITHOUT WARRANTIES OR CONDITIONS OF ANY KIND, either express or implied.\n",
              "// See the License for the specific language governing permissions and\n",
              "// limitations under the License.\n",
              "\n",
              "/**\n",
              " * @fileoverview Helpers for google.colab Python module.\n",
              " */\n",
              "(function(scope) {\n",
              "function span(text, styleAttributes = {}) {\n",
              "  const element = document.createElement('span');\n",
              "  element.textContent = text;\n",
              "  for (const key of Object.keys(styleAttributes)) {\n",
              "    element.style[key] = styleAttributes[key];\n",
              "  }\n",
              "  return element;\n",
              "}\n",
              "\n",
              "// Max number of bytes which will be uploaded at a time.\n",
              "const MAX_PAYLOAD_SIZE = 100 * 1024;\n",
              "\n",
              "function _uploadFiles(inputId, outputId) {\n",
              "  const steps = uploadFilesStep(inputId, outputId);\n",
              "  const outputElement = document.getElementById(outputId);\n",
              "  // Cache steps on the outputElement to make it available for the next call\n",
              "  // to uploadFilesContinue from Python.\n",
              "  outputElement.steps = steps;\n",
              "\n",
              "  return _uploadFilesContinue(outputId);\n",
              "}\n",
              "\n",
              "// This is roughly an async generator (not supported in the browser yet),\n",
              "// where there are multiple asynchronous steps and the Python side is going\n",
              "// to poll for completion of each step.\n",
              "// This uses a Promise to block the python side on completion of each step,\n",
              "// then passes the result of the previous step as the input to the next step.\n",
              "function _uploadFilesContinue(outputId) {\n",
              "  const outputElement = document.getElementById(outputId);\n",
              "  const steps = outputElement.steps;\n",
              "\n",
              "  const next = steps.next(outputElement.lastPromiseValue);\n",
              "  return Promise.resolve(next.value.promise).then((value) => {\n",
              "    // Cache the last promise value to make it available to the next\n",
              "    // step of the generator.\n",
              "    outputElement.lastPromiseValue = value;\n",
              "    return next.value.response;\n",
              "  });\n",
              "}\n",
              "\n",
              "/**\n",
              " * Generator function which is called between each async step of the upload\n",
              " * process.\n",
              " * @param {string} inputId Element ID of the input file picker element.\n",
              " * @param {string} outputId Element ID of the output display.\n",
              " * @return {!Iterable<!Object>} Iterable of next steps.\n",
              " */\n",
              "function* uploadFilesStep(inputId, outputId) {\n",
              "  const inputElement = document.getElementById(inputId);\n",
              "  inputElement.disabled = false;\n",
              "\n",
              "  const outputElement = document.getElementById(outputId);\n",
              "  outputElement.innerHTML = '';\n",
              "\n",
              "  const pickedPromise = new Promise((resolve) => {\n",
              "    inputElement.addEventListener('change', (e) => {\n",
              "      resolve(e.target.files);\n",
              "    });\n",
              "  });\n",
              "\n",
              "  const cancel = document.createElement('button');\n",
              "  inputElement.parentElement.appendChild(cancel);\n",
              "  cancel.textContent = 'Cancel upload';\n",
              "  const cancelPromise = new Promise((resolve) => {\n",
              "    cancel.onclick = () => {\n",
              "      resolve(null);\n",
              "    };\n",
              "  });\n",
              "\n",
              "  // Wait for the user to pick the files.\n",
              "  const files = yield {\n",
              "    promise: Promise.race([pickedPromise, cancelPromise]),\n",
              "    response: {\n",
              "      action: 'starting',\n",
              "    }\n",
              "  };\n",
              "\n",
              "  cancel.remove();\n",
              "\n",
              "  // Disable the input element since further picks are not allowed.\n",
              "  inputElement.disabled = true;\n",
              "\n",
              "  if (!files) {\n",
              "    return {\n",
              "      response: {\n",
              "        action: 'complete',\n",
              "      }\n",
              "    };\n",
              "  }\n",
              "\n",
              "  for (const file of files) {\n",
              "    const li = document.createElement('li');\n",
              "    li.append(span(file.name, {fontWeight: 'bold'}));\n",
              "    li.append(span(\n",
              "        `(${file.type || 'n/a'}) - ${file.size} bytes, ` +\n",
              "        `last modified: ${\n",
              "            file.lastModifiedDate ? file.lastModifiedDate.toLocaleDateString() :\n",
              "                                    'n/a'} - `));\n",
              "    const percent = span('0% done');\n",
              "    li.appendChild(percent);\n",
              "\n",
              "    outputElement.appendChild(li);\n",
              "\n",
              "    const fileDataPromise = new Promise((resolve) => {\n",
              "      const reader = new FileReader();\n",
              "      reader.onload = (e) => {\n",
              "        resolve(e.target.result);\n",
              "      };\n",
              "      reader.readAsArrayBuffer(file);\n",
              "    });\n",
              "    // Wait for the data to be ready.\n",
              "    let fileData = yield {\n",
              "      promise: fileDataPromise,\n",
              "      response: {\n",
              "        action: 'continue',\n",
              "      }\n",
              "    };\n",
              "\n",
              "    // Use a chunked sending to avoid message size limits. See b/62115660.\n",
              "    let position = 0;\n",
              "    do {\n",
              "      const length = Math.min(fileData.byteLength - position, MAX_PAYLOAD_SIZE);\n",
              "      const chunk = new Uint8Array(fileData, position, length);\n",
              "      position += length;\n",
              "\n",
              "      const base64 = btoa(String.fromCharCode.apply(null, chunk));\n",
              "      yield {\n",
              "        response: {\n",
              "          action: 'append',\n",
              "          file: file.name,\n",
              "          data: base64,\n",
              "        },\n",
              "      };\n",
              "\n",
              "      let percentDone = fileData.byteLength === 0 ?\n",
              "          100 :\n",
              "          Math.round((position / fileData.byteLength) * 100);\n",
              "      percent.textContent = `${percentDone}% done`;\n",
              "\n",
              "    } while (position < fileData.byteLength);\n",
              "  }\n",
              "\n",
              "  // All done.\n",
              "  yield {\n",
              "    response: {\n",
              "      action: 'complete',\n",
              "    }\n",
              "  };\n",
              "}\n",
              "\n",
              "scope.google = scope.google || {};\n",
              "scope.google.colab = scope.google.colab || {};\n",
              "scope.google.colab._files = {\n",
              "  _uploadFiles,\n",
              "  _uploadFilesContinue,\n",
              "};\n",
              "})(self);\n",
              "</script> "
            ]
          },
          "metadata": {}
        },
        {
          "output_type": "stream",
          "name": "stdout",
          "text": [
            "Saving chm13_chr22.fa to chm13_chr22.fa\n",
            "Saving GRCh38_chr22.fa to GRCh38_chr22.fa\n",
            "Saving GRCh38_chr22.gff3 to GRCh38_chr22.gff3\n"
          ]
        }
      ]
    },
    {
      "cell_type": "markdown",
      "source": [
        "---"
      ],
      "metadata": {
        "id": "ue_gco4pKFW9"
      }
    },
    {
      "cell_type": "markdown",
      "source": [
        "## Run LiftON"
      ],
      "metadata": {
        "id": "XfHvckgrKGTw"
      }
    },
    {
      "cell_type": "markdown",
      "source": [
        "You only need one command to use LiftOn! The primary output is a GFF3 file containing the annotations mapped onto the target genome.\n"
      ],
      "metadata": {
        "id": "HAfNlMScKJoi"
      }
    },
    {
      "cell_type": "code",
      "source": [
        "! lifton -g GRCh38_chr22.gff3 -dir GRCh38_2_CHM13 -o GRCh38_2_CHM13_lifton.gff3 -copies chm13_chr22.fa GRCh38_chr22.fa"
      ],
      "metadata": {
        "id": "hZSj3IjcMmE3"
      },
      "execution_count": null,
      "outputs": []
    },
    {
      "cell_type": "markdown",
      "source": [
        "Congratulations! You have finished the splam annotation file evaluation analysis!"
      ],
      "metadata": {
        "id": "P6Jb_TnONVDW"
      }
    }
  ]
}