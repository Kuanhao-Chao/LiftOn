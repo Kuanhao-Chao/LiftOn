{
  "nbformat": 4,
  "nbformat_minor": 0,
  "metadata": {
    "colab": {
      "provenance": [],
      "authorship_tag": "ABX9TyMNShlvy/umFaxrQ/k4NNOr",
      "include_colab_link": true
    },
    "kernelspec": {
      "name": "python3",
      "display_name": "Python 3"
    },
    "language_info": {
      "name": "python"
    }
  },
  "cells": [
    {
      "cell_type": "markdown",
      "metadata": {
        "id": "view-in-github",
        "colab_type": "text"
      },
      "source": [
        "<a href=\"https://colab.research.google.com/github/Kuanhao-Chao/LiftOn/blob/main/notebook/lifton_example.ipynb\" target=\"_parent\"><img src=\"https://colab.research.google.com/assets/colab-badge.svg\" alt=\"Open In Colab\"/></a>"
      ]
    },
    {
      "cell_type": "markdown",
      "source": [
        "# Running LiftOn on Google Colab"
      ],
      "metadata": {
        "id": "TJZ-vxbA6-Zv"
      }
    },
    {
      "cell_type": "markdown",
      "source": [
        "## Setup"
      ],
      "metadata": {
        "id": "mR0_36fX7Cq9"
      }
    },
    {
      "cell_type": "markdown",
      "source": [
        "### Install LiftOn"
      ],
      "metadata": {
        "id": "bZEpHcZr7Ff5"
      }
    },
    {
      "cell_type": "code",
      "execution_count": 2,
      "metadata": {
        "colab": {
          "base_uri": "https://localhost:8080/"
        },
        "id": "VfTdiCWA6pv2",
        "outputId": "2db78e34-f91f-4a72-c168-4899e425a88a"
      },
      "outputs": [
        {
          "output_type": "stream",
          "name": "stdout",
          "text": [
            "Collecting lifton\n",
            "  Downloading lifton-0.0.1-py3-none-any.whl (68 kB)\n",
            "\u001b[?25l     \u001b[90m━━━━━━━━━━━━━━━━━━━━━━━━━━━━━━━━━━━━━━━━\u001b[0m \u001b[32m0.0/68.1 kB\u001b[0m \u001b[31m?\u001b[0m eta \u001b[36m-:--:--\u001b[0m\r\u001b[2K     \u001b[91m━━━━━━━━━━━━━━━━━━━━━━━━\u001b[0m\u001b[90m╺\u001b[0m\u001b[90m━━━━━━━━━━━━━━━\u001b[0m \u001b[32m41.0/68.1 kB\u001b[0m \u001b[31m1.1 MB/s\u001b[0m eta \u001b[36m0:00:01\u001b[0m\r\u001b[2K     \u001b[90m━━━━━━━━━━━━━━━━━━━━━━━━━━━━━━━━━━━━━━━━\u001b[0m \u001b[32m68.1/68.1 kB\u001b[0m \u001b[31m1.2 MB/s\u001b[0m eta \u001b[36m0:00:00\u001b[0m\n",
            "\u001b[?25hRequirement already satisfied: numpy in /usr/local/lib/python3.10/dist-packages (from lifton) (1.23.5)\n",
            "Collecting biopython (from lifton)\n",
            "  Downloading biopython-1.82-cp310-cp310-manylinux_2_17_x86_64.manylinux2014_x86_64.whl (3.1 MB)\n",
            "\u001b[2K     \u001b[90m━━━━━━━━━━━━━━━━━━━━━━━━━━━━━━━━━━━━━━━━\u001b[0m \u001b[32m3.1/3.1 MB\u001b[0m \u001b[31m40.5 MB/s\u001b[0m eta \u001b[36m0:00:00\u001b[0m\n",
            "\u001b[?25hCollecting cigar>=0.1.3 (from lifton)\n",
            "  Downloading cigar-0.1.3.tar.gz (7.0 kB)\n",
            "  Preparing metadata (setup.py) ... \u001b[?25l\u001b[?25hdone\n",
            "Collecting parasail>=1.2.1 (from lifton)\n",
            "  Downloading parasail-1.3.4-py2.py3-none-manylinux_2_17_x86_64.manylinux2014_x86_64.whl (15.6 MB)\n",
            "\u001b[2K     \u001b[90m━━━━━━━━━━━━━━━━━━━━━━━━━━━━━━━━━━━━━━━━\u001b[0m \u001b[32m15.6/15.6 MB\u001b[0m \u001b[31m40.8 MB/s\u001b[0m eta \u001b[36m0:00:00\u001b[0m\n",
            "\u001b[?25hCollecting intervaltree>=3.1.0 (from lifton)\n",
            "  Downloading intervaltree-3.1.0.tar.gz (32 kB)\n",
            "  Preparing metadata (setup.py) ... \u001b[?25l\u001b[?25hdone\n",
            "Requirement already satisfied: sortedcontainers<3.0,>=2.0 in /usr/local/lib/python3.10/dist-packages (from intervaltree>=3.1.0->lifton) (2.4.0)\n",
            "Building wheels for collected packages: cigar, intervaltree\n",
            "  Building wheel for cigar (setup.py) ... \u001b[?25l\u001b[?25hdone\n",
            "  Created wheel for cigar: filename=cigar-0.1.3-py3-none-any.whl size=4018 sha256=1dc998aabb69e41a272dff999fb0354036ab8597b714abed3a970ba64e2bdf9e\n",
            "  Stored in directory: /root/.cache/pip/wheels/75/18/b2/e1baa97ff21b2716f1ef8510de676c9777ce0b9057994e23be\n",
            "  Building wheel for intervaltree (setup.py) ... \u001b[?25l\u001b[?25hdone\n",
            "  Created wheel for intervaltree: filename=intervaltree-3.1.0-py2.py3-none-any.whl size=26095 sha256=827943f90c2b15bbd049f8dbc0d32de9eec46c0e63b6d1de4ada563da5f80e19\n",
            "  Stored in directory: /root/.cache/pip/wheels/fa/80/8c/43488a924a046b733b64de3fac99252674c892a4c3801c0a61\n",
            "Successfully built cigar intervaltree\n",
            "Installing collected packages: cigar, parasail, intervaltree, biopython, lifton\n",
            "Successfully installed biopython-1.82 cigar-0.1.3 intervaltree-3.1.0 lifton-0.0.1 parasail-1.3.4\n"
          ]
        }
      ],
      "source": [
        "!pip install lifton"
      ]
    },
    {
      "cell_type": "markdown",
      "source": [
        "### Checking installed splam version"
      ],
      "metadata": {
        "id": "Df7BSBwM685q"
      }
    },
    {
      "cell_type": "code",
      "source": [
        "!lifton -h"
      ],
      "metadata": {
        "colab": {
          "base_uri": "https://localhost:8080/"
        },
        "id": "A9lt7Du0B17N",
        "outputId": "f889ed35-3c76-48ac-9b87-669ce4f83588"
      },
      "execution_count": 13,
      "outputs": [
        {
          "output_type": "stream",
          "name": "stdout",
          "text": [
            "\n",
            "====================================================================\n",
            "An accurate homology lift-over tool between assemblies\n",
            "====================================================================\n",
            "\n",
            "\n",
            "    ██╗     ██╗███████╗████████╗ ██████╗ ███╗   ██╗\n",
            "    ██║     ██║██╔════╝╚══██╔══╝██╔═══██╗████╗  ██║\n",
            "    ██║     ██║█████╗     ██║   ██║   ██║██╔██╗ ██║\n",
            "    ██║     ██║██╔══╝     ██║   ██║   ██║██║╚██╗██║\n",
            "    ███████╗██║██║        ██║   ╚██████╔╝██║ ╚████║\n",
            "    ╚══════╝╚═╝╚═╝        ╚═╝    ╚═════╝ ╚═╝  ╚═══╝\n",
            "    \n",
            "v0.0.1\n",
            "\n",
            "usage: lifton [-h] [-E] [-o FILE] [-u FILE] [-exclude_partial] [-dir DIR] [-mm2_options =STR]\n",
            "              [-a A] [-s S] [-d D] [-flank F] [-V] [-D] [-t THREADS] [-m PATH] [-f TYPES]\n",
            "              [-infer-genes] [-infer_transcripts] [-chroms TXT] [-unplaced TXT] [-copies] [-sc SC]\n",
            "              [-overlap O] [-mismatch M] [-gap_open GO] [-gap_extend GE] [-polish] [-cds] -g GFF\n",
            "              [-P FASTA] [-T FASTA] [-L gff] [-M gff]\n",
            "              target reference\n",
            "\n",
            "Lift features from one genome assembly to another\n",
            "\n",
            "* Required input (sequences):\n",
            "  target                target fasta genome to lift genes to\n",
            "  reference             reference fasta genome to lift genes from\n",
            "\n",
            "* Required input (Reference annotation):\n",
            "  -g GFF, --reference-annotation GFF\n",
            "                        the reference annotation file to lift over in GFF or GTF format (or) name\n",
            "                        of feature database; if not specified, the -g argument must be provided\n",
            "                        and a database will be built automatically\n",
            "  -P FASTA, --proteins FASTA\n",
            "                        the reference protein sequences.\n",
            "  -T FASTA, --transcripts FASTA\n",
            "                        the reference transcript sequences.\n",
            "\n",
            "* Optional input (Liftoff annotation):\n",
            "  -L gff, --liftoff gff\n",
            "                        the annotation generated by Liftoff (or) name of Liftoff gffutils\n",
            "                        database; if not specified, the -liftoff argument must be provided and a\n",
            "                        database will be built automatically\n",
            "\n",
            "* Optional input (miniprot annotation):\n",
            "  -M gff, --miniprot gff\n",
            "                        the annotation generated by miniprot (or) name of miniprot gffutils\n",
            "                        database; if not specified, the -miniprot argument must be provided and a\n",
            "                        database will be built automatically\n",
            "\n",
            "* Output settings:\n",
            "  -o FILE, --output FILE\n",
            "                        write output to FILE in same format as input; by default, output is\n",
            "                        written to \"lifton.gff3\"\n",
            "  -u FILE               write unmapped features to FILE; default is \"unmapped_features.txt\"\n",
            "  -exclude_partial      write partial mappings below -s and -a threshold to unmapped_features.txt;\n",
            "                        if true partial/low sequence identity mappings will be included in the gff\n",
            "                        file with partial_mapping=True, low_identity=True in comments\n",
            "  -dir DIR, --directory DIR\n",
            "                        name of directory to save intermediate fasta and SAM files; default is\n",
            "                        \"intermediate_files\"\n",
            "\n",
            "* Miscellaneous settings:\n",
            "  -h, --help            show this help message and exit\n",
            "  -E, --evaluation      Run LiftOn in evaluation mode\n",
            "  -V, --version         show program version\n",
            "  -D, --debug           Run debug mode\n",
            "  -t THREADS, --threads THREADS\n",
            "                        use t parallel processes to accelerate alignment; by default p=1\n",
            "  -m PATH               Minimap2 path\n",
            "  -f TYPES, --features TYPES\n",
            "                        list of feature types to lift over\n",
            "  -infer-genes          use if annotation file only includes transcripts, exon/CDS features\n",
            "  -infer_transcripts    use if annotation file only includes exon/CDS features and does not\n",
            "                        include transcripts/mRNA\n",
            "  -chroms TXT           comma seperated file with corresponding chromosomes in the\n",
            "                        reference,target sequences\n",
            "  -unplaced TXT         text file with name(s) of unplaced sequences to map genes from after genes\n",
            "                        from chromosomes in chroms.txt are mapped; default is\n",
            "                        \"unplaced_seq_names.txt\"\n",
            "  -copies               look for extra gene copies in the target genome\n",
            "  -sc SC                with -copies, minimum sequence identity in exons/CDS for which a gene is\n",
            "                        considered a copy; must be greater than -s; default is 1.0\n",
            "  -overlap O            maximum fraction [0.0-1.0] of overlap allowed by 2 features; by default\n",
            "                        O=0.1\n",
            "  -mismatch M           mismatch penalty in exons when finding best mapping; by default M=2\n",
            "  -gap_open GO          gap open penalty in exons when finding best mapping; by default GO=2\n",
            "  -gap_extend GE        gap extend penalty in exons when finding best mapping; by default GE=1\n",
            "  -polish\n",
            "  -cds                  annotate status of each CDS (partial, missing start, missing stop, inframe\n",
            "                        stop codon)\n",
            "\n",
            "Alignments:\n",
            "  -mm2_options =STR     space delimited minimap2 parameters. By default =\"-a --end-bonus 5 --eqx\n",
            "                        -N 50 -p 0.5\"\n",
            "  -a A                  designate a feature mapped only if it aligns with coverage ≥A; by default\n",
            "                        A=0.5\n",
            "  -s S                  designate a feature mapped only if its child features (usually exons/CDS)\n",
            "                        align with sequence identity ≥S; by default S=0.5\n",
            "  -d D                  distance scaling factor; alignment nodes separated by more than a factor\n",
            "                        of D in the target genome will not be connected in the graph; by default\n",
            "                        D=2.0\n",
            "  -flank F              amount of flanking sequence to align as a fraction [0.0-1.0] of gene\n",
            "                        length. This can improve gene alignment where gene structure differs\n",
            "                        between target and reference; by default F=0.0\n"
          ]
        }
      ]
    },
    {
      "cell_type": "code",
      "source": [],
      "metadata": {
        "id": "YSC7tIpFCTOT"
      },
      "execution_count": null,
      "outputs": []
    }
  ]
}